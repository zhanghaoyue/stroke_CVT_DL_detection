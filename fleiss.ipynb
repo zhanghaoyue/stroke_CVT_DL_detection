{
 "cells": [
  {
   "cell_type": "code",
   "execution_count": 103,
   "id": "7d315040",
   "metadata": {},
   "outputs": [],
   "source": [
    "def fleiss_kappa(ratings, n):\n",
    "    '''    \n",
    "    Args:\n",
    "        ratings: prepared combined csv file\n",
    "        n: number of raters\n",
    "    Returns:\n",
    "        the Fleiss' kappa score\n",
    "    \n",
    "    '''\n",
    "    items = set()\n",
    "    categories = {0,1}\n",
    "    n_ij = {}\n",
    "    \n",
    "    for i, c in enumerate(ratings.iterrows()):\n",
    "        items.add(i)\n",
    "        n_ij[(i,1)] = c[1].CVST_pre_1+c[1].CVST_pre_2+c[1].CVST_pre_3+c[1].CVST_pre_YXX\n",
    "        n_ij[(i,0)] = 3- n_ij[(i,1)]\n",
    "    \n",
    "    N = len(items)\n",
    "    \n",
    "    p_j = dict(((c, sum(n_ij.get((i, c), 0) for i in items) / (1.0 * n * N)) for c in categories))\n",
    "    P_i = dict(((i, (sum(n_ij.get((i, c), 0) ** 2 for c in categories) - n) / (n * (n - 1.0))) for i in items))\n",
    "\n",
    "    P_bar = sum(P_i.values()) / (1.0 * N)\n",
    "    P_e_bar = sum(value ** 2 for value in p_j.values())\n",
    "    \n",
    "    kappa = (P_bar - P_e_bar) / (1 - P_e_bar)\n",
    "    \n",
    "    return kappa"
   ]
  },
  {
   "cell_type": "code",
   "execution_count": 104,
   "id": "5a496baf",
   "metadata": {},
   "outputs": [
    {
     "data": {
      "text/plain": [
       "0.2933931045330526"
      ]
     },
     "execution_count": 104,
     "metadata": {},
     "output_type": "execute_result"
    }
   ],
   "source": [
    "import pandas as pd\n",
    "\n",
    "ratings = pd.read_csv(r\"readers.csv\")\n",
    "fleiss_kappa(ratings,4)"
   ]
  }
 ],
 "metadata": {
  "kernelspec": {
   "display_name": "Python 3",
   "language": "python",
   "name": "python3"
  },
  "language_info": {
   "codemirror_mode": {
    "name": "ipython",
    "version": 3
   },
   "file_extension": ".py",
   "mimetype": "text/x-python",
   "name": "python",
   "nbconvert_exporter": "python",
   "pygments_lexer": "ipython3",
   "version": "3.9.5"
  }
 },
 "nbformat": 4,
 "nbformat_minor": 5
}
