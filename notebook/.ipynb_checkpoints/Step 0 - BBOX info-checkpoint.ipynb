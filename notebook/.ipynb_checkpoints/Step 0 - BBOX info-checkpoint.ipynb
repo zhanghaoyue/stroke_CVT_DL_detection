{
 "cells": [
  {
   "cell_type": "code",
   "execution_count": 1,
   "id": "e5689315",
   "metadata": {},
   "outputs": [],
   "source": [
    "import os\n",
    "import pandas as pd\n",
    "import json\n",
    "import shutil\n",
    "import SimpleITK as sitk\n",
    "import cv2\n",
    "import numpy as np\n",
    "from tqdm import tqdm\n",
    "from sklearn.model_selection import KFold"
   ]
  },
  {
   "cell_type": "code",
   "execution_count": 3,
   "id": "8b052b6b",
   "metadata": {},
   "outputs": [],
   "source": [
    "path = '../data/N4_All_img/'\n",
    "data_list = os.listdir(path)"
   ]
  },
  {
   "cell_type": "code",
   "execution_count": 4,
   "id": "5945e593",
   "metadata": {},
   "outputs": [],
   "source": [
    "with open('../config/N4_All_dict.json', 'r') as f:\n",
    "    slice_info_dict = json.load(f)"
   ]
  },
  {
   "cell_type": "code",
   "execution_count": 5,
   "id": "4937960e",
   "metadata": {},
   "outputs": [
    {
     "data": {
      "text/plain": [
       "dict_keys(['Train', 'Test', 'path_img'])"
      ]
     },
     "execution_count": 5,
     "metadata": {},
     "output_type": "execute_result"
    }
   ],
   "source": [
    "slice_info_dict.keys()"
   ]
  },
  {
   "cell_type": "code",
   "execution_count": null,
   "id": "c3fc4076",
   "metadata": {},
   "outputs": [],
   "source": [
    "train_bbox = [0,0,0,0,0]\n",
    "val_bbox = [0,0,0,0,0]\n",
    "test_bbox = 0"
   ]
  },
  {
   "cell_type": "code",
   "execution_count": 11,
   "id": "b33eae86",
   "metadata": {},
   "outputs": [
    {
     "name": "stdout",
     "output_type": "stream",
     "text": [
      "(448, 448)\n",
      "1193\n",
      "(448, 448)\n",
      "1185\n",
      "(448, 448)\n",
      "1192\n",
      "(448, 448)\n",
      "1175\n",
      "(448, 448)\n",
      "1147\n"
     ]
    }
   ],
   "source": [
    "for k in slice_info_dict['Train']:\n",
    "    k_train_list = slice_info_dict['Train'][k]['train']\n",
    "    for k_train_case in k_train_list:\n",
    "        k_train_case_path = path + k_train_case + '.npz'\n",
    "        k_train_case_bbox = np.load(k_train_case_path)['BBOX']\n",
    "        if k_train_case_bbox.max() != 0:\n",
    "            train_bbox[int(k)] += 1\n",
    "            \n",
    "    print(len(k_train_list))\n",
    "\n",
    "    k_val_list = slice_info_dict['Train'][k]['val']\n",
    "    for k_train_case in k_train_list:\n",
    "        k_train_case_path = path + k_train_case + '.npz'\n",
    "        k_train_case_bbox = np.load(k_train_case_path)['BBOX']\n",
    "        if k_train_case_bbox.max() != 0:\n",
    "            train_bbox[int(k)] += 1\n",
    "    \n",
    "    print(len(k_val_list))\n",
    "    "
   ]
  },
  {
   "cell_type": "code",
   "execution_count": null,
   "id": "32d7387f",
   "metadata": {},
   "outputs": [],
   "source": []
  }
 ],
 "metadata": {
  "kernelspec": {
   "display_name": "Python 3",
   "language": "python",
   "name": "python3"
  },
  "language_info": {
   "codemirror_mode": {
    "name": "ipython",
    "version": 3
   },
   "file_extension": ".py",
   "mimetype": "text/x-python",
   "name": "python",
   "nbconvert_exporter": "python",
   "pygments_lexer": "ipython3",
   "version": "3.8.10"
  }
 },
 "nbformat": 4,
 "nbformat_minor": 5
}
