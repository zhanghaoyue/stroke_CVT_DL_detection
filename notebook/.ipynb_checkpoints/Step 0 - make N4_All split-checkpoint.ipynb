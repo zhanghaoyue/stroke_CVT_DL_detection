{
 "cells": [
  {
   "cell_type": "code",
   "execution_count": null,
   "id": "e5689315",
   "metadata": {},
   "outputs": [],
   "source": [
    "import os\n",
    "import pandas as pd\n",
    "import json\n",
    "import shutil\n",
    "import SimpleITK as sitk\n",
    "import cv2\n",
    "import numpy as np\n",
    "from tqdm import tqdm\n",
    "from sklearn.model_selection import KFold"
   ]
  },
  {
   "cell_type": "code",
   "execution_count": null,
   "id": "8b052b6b",
   "metadata": {},
   "outputs": [],
   "source": [
    "path = '../data/N4_All_img/'\n",
    "pid_list = sorted(list(set(['_'.join(each.split('_')[:-1]) for each in sorted(os.listdir(path))])))\n",
    "print(len(pid_list))"
   ]
  },
  {
   "cell_type": "code",
   "execution_count": null,
   "id": "5fc1e41d",
   "metadata": {},
   "outputs": [],
   "source": [
    "Pos_list = sorted([each for each in pid_list if each.startswith('I_') == False])\n",
    "Neg_list = sorted([each for each in pid_list if each.startswith('I_') == True])\n",
    "print(len(Pos_list))\n",
    "print(len(Neg_list))"
   ]
  },
  {
   "cell_type": "code",
   "execution_count": null,
   "id": "428c9526",
   "metadata": {},
   "outputs": [],
   "source": [
    "np.random.seed(0)\n",
    "np.random.shuffle(Pos_list)\n",
    "np.random.shuffle(Neg_list)"
   ]
  },
  {
   "cell_type": "code",
   "execution_count": null,
   "id": "8624d9c0",
   "metadata": {},
   "outputs": [],
   "source": [
    "test_list = sorted(Pos_list[:50] + Neg_list[:50])\n",
    "info_dict = {}\n",
    "info_dict['Test'] = test_list"
   ]
  },
  {
   "cell_type": "code",
   "execution_count": null,
   "id": "ed5d19f5",
   "metadata": {},
   "outputs": [],
   "source": [
    "info_dict['Train'] = {}\n",
    "\n",
    "Pos_dev_list = sorted(Pos_list[50:])\n",
    "Neg_dev_list = sorted(Neg_list[50:])\n",
    "\n",
    "kf = KFold(n_splits=5, shuffle=True, random_state=0)\n",
    "for idx, (train, val) in enumerate(kf.split(Pos_dev_list)):\n",
    "    # 3d dict\n",
    "    info_dict['Train'][str(idx)] = {}\n",
    "    info_dict['Train'][str(idx)]['train'] = np.array(Pos_dev_list)[train].tolist()\n",
    "    info_dict['Train'][str(idx)]['val'] = np.array(Pos_dev_list)[val].tolist()\n",
    "for i in range(5):\n",
    "    print(len(info_dict['Train'][str(i)]['train']), len(info_dict['Train'][str(i)]['val']))\n",
    "    \n",
    "kf = KFold(n_splits=5, shuffle=True, random_state=0)\n",
    "for idx, (train, val) in enumerate(kf.split(Neg_dev_list)):\n",
    "    # 3d dict\n",
    "    info_dict['Train'][str(idx)]['train'] += np.array(Neg_dev_list)[train].tolist()\n",
    "    info_dict['Train'][str(idx)]['val'] += np.array(Neg_dev_list)[val].tolist()\n",
    "    \n",
    "for i in range(5):\n",
    "    print(len(info_dict['Train'][str(i)]['train']), len(info_dict['Train'][str(i)]['val']))\n",
    "print(len(info_dict['Test']))"
   ]
  },
  {
   "cell_type": "code",
   "execution_count": null,
   "id": "e1b9cc56",
   "metadata": {},
   "outputs": [],
   "source": [
    "data_list = os.listdir(path)"
   ]
  },
  {
   "cell_type": "code",
   "execution_count": null,
   "id": "5945e593",
   "metadata": {},
   "outputs": [],
   "source": [
    "slice_info_dict = {}\n",
    "slice_info_dict['Train'] = {}\n",
    "slice_info_dict['Test'] = []\n",
    "\n",
    "for idx in range(5):\n",
    "    train_list = info_dict['Train'][str(idx)]['train']\n",
    "    val_list = info_dict['Train'][str(idx)]['val']\n",
    "\n",
    "    slice_info_dict['Train'][str(idx)] = {}\n",
    "    slice_info_dict['Train'][str(idx)]['train'] = []\n",
    "    slice_info_dict['Train'][str(idx)]['val'] = []\n",
    "\n",
    "    for data in data_list:\n",
    "        data_head = data[:-8]\n",
    "        if data_head in train_list:\n",
    "            slice_info_dict['Train'][str(idx)]['train'].append(data[:-4])\n",
    "        elif data_head in val_list:\n",
    "            slice_info_dict['Train'][str(idx)]['val'].append(data[:-4])\n",
    "        elif data_head in test_list and idx == 0:\n",
    "            slice_info_dict['Test'].append(data[:-4])\n",
    "\n",
    "    print(len(slice_info_dict['Train'][str(idx)]['train']))\n",
    "    print(len(slice_info_dict['Train'][str(idx)]['val']))\n",
    "    print(len(slice_info_dict['Test']))\n",
    "    print('========================================')\n",
    "\n",
    "slice_info_dict['path_img'] = '../data/N4_All_img/'\n",
    "\n",
    "with open('../config/N4_All_dict.json', 'w') as f:\n",
    "    json.dump(slice_info_dict, f, indent=2)"
   ]
  },
  {
   "cell_type": "code",
   "execution_count": null,
   "id": "4937960e",
   "metadata": {},
   "outputs": [],
   "source": []
  }
 ],
 "metadata": {
  "kernelspec": {
   "display_name": "Python 3",
   "language": "python",
   "name": "python3"
  },
  "language_info": {
   "codemirror_mode": {
    "name": "ipython",
    "version": 3
   },
   "file_extension": ".py",
   "mimetype": "text/x-python",
   "name": "python",
   "nbconvert_exporter": "python",
   "pygments_lexer": "ipython3",
   "version": "3.8.10"
  },
  "toc": {
   "base_numbering": 1,
   "nav_menu": {},
   "number_sections": true,
   "sideBar": true,
   "skip_h1_title": false,
   "title_cell": "Table of Contents",
   "title_sidebar": "Contents",
   "toc_cell": false,
   "toc_position": {},
   "toc_section_display": true,
   "toc_window_display": false
  }
 },
 "nbformat": 4,
 "nbformat_minor": 5
}
