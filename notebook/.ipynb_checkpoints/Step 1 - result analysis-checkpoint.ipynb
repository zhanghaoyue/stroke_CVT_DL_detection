{
 "cells": [
  {
   "cell_type": "code",
   "execution_count": null,
   "id": "663dd584",
   "metadata": {},
   "outputs": [],
   "source": [
    "import json\n",
    "import os\n",
    "import numpy as np\n",
    "from pprint import pprint\n",
    "from copy import deepcopy\n",
    "import matplotlib.pyplot as plt"
   ]
  },
  {
   "cell_type": "code",
   "execution_count": null,
   "id": "d688cfbd",
   "metadata": {},
   "outputs": [],
   "source": [
    "def compute_ap(recall, precision):\n",
    "    \"\"\" Compute the average precision, given the recall and precision curves.\n",
    "    Code originally from https://github.com/rbgirshick/py-faster-rcnn.\n",
    "    # Arguments\n",
    "        recall:    The recall curve (list).\n",
    "        precision: The precision curve (list).\n",
    "    # Returns\n",
    "        The average precision as computed in py-faster-rcnn.\n",
    "    \"\"\"\n",
    "    # correct AP calculation\n",
    "    # first append sentinel values at the end\n",
    "    mrec = np.concatenate(([0.], recall, [1.]))\n",
    "    mpre = np.concatenate(([0.], precision, [0.]))\n",
    "\n",
    "    # compute the precision envelope\n",
    "    for i in range(mpre.size - 1, 0, -1):\n",
    "        mpre[i - 1] = np.maximum(mpre[i - 1], mpre[i])\n",
    "\n",
    "    # to calculate area under PR curve, look for points\n",
    "    # where X axis (recall) changes value\n",
    "    i = np.where(mrec[1:] != mrec[:-1])[0]\n",
    "\n",
    "    # and sum (\\Delta recall) * prec\n",
    "    ap = np.sum((mrec[i + 1] - mrec[i]) * mpre[i + 1])\n",
    "    return ap"
   ]
  },
  {
   "cell_type": "code",
   "execution_count": null,
   "id": "e74d83e6",
   "metadata": {},
   "outputs": [],
   "source": [
    "anno_list = [496, 470, 457, 555, 557]\n",
    "case_list = [805, 808, 806, 809, 791]"
   ]
  },
  {
   "cell_type": "code",
   "execution_count": null,
   "id": "58425538",
   "metadata": {},
   "outputs": [],
   "source": [
    "model_path = '../model/N4/'\n",
    "pprint([each for each in sorted(os.listdir(model_path)) if each.startswith('')])"
   ]
  },
  {
   "cell_type": "code",
   "execution_count": null,
   "id": "3894dbb1",
   "metadata": {},
   "outputs": [],
   "source": [
    "key = 'A4_nrx101_bs32_lr1e4_pm_Wci_alpha02'"
   ]
  },
  {
   "cell_type": "code",
   "execution_count": null,
   "id": "93705548",
   "metadata": {},
   "outputs": [],
   "source": [
    "net_path = model_path + key + '/'\n",
    "net_list = sorted([each for each in os.listdir(net_path) if each[0] == 'K'])\n",
    "\n",
    "result_path = '../info/N4/' + key + '/'\n",
    "result_list = sorted([each for each in os.listdir(result_path) if each[0] == 'K'])"
   ]
  },
  {
   "cell_type": "code",
   "execution_count": null,
   "id": "04b36d70",
   "metadata": {},
   "outputs": [],
   "source": [
    "result_list = sorted([each for each in os.listdir(result_path) if each[0] == 'K'])\n",
    "for k_idx in range(5):\n",
    "    tmp_result_list = [each for each in result_list if each.startswith('K%s'%k_idx)]\n",
    "    tmp_result_list = sorted(tmp_result_list, key=lambda x:float(x.split('.')[0].split('_')[3]))\n",
    "\n",
    "    if len(tmp_result_list) == 1:\n",
    "        pass\n",
    "    elif len(tmp_result_list) == 0:\n",
    "        continue\n",
    "    else:\n",
    "        remove_result_list = tmp_result_list[:-1]\n",
    "\n",
    "        for remove_result in remove_result_list:\n",
    "            remove_result_path = result_path + remove_result\n",
    "            os.remove(remove_result_path)  \n",
    "\n",
    "    best_model = tmp_result_list[-1]\n",
    "    print(best_model)\n",
    "    best_result_path = result_path + best_model\n",
    "    with open(best_result_path, 'r') as f:\n",
    "        result_dict = json.load(f)\n",
    "    \n",
    "    fp_list = np.array(result_dict['fp'])\n",
    "    tp_list = np.array(result_dict['tp'])\n",
    "    scores = np.array(result_dict['score'])\n",
    "    anno = anno_list[k_idx]\n",
    "    case_num = case_list[k_idx]\n",
    "    \n",
    "    for th in [0.25, 0.5, 1, 2, 4]:\n",
    "        fp_th_idx = np.argmin(np.abs(fp_list / case_num - th))\n",
    "        tp_th = tp_list[fp_th_idx]\n",
    "        print('%1.2f'%th, (tp_th / anno).round(4))"
   ]
  },
  {
   "cell_type": "code",
   "execution_count": null,
   "id": "f475255a",
   "metadata": {},
   "outputs": [],
   "source": [
    "net_list = sorted([each for each in os.listdir(net_path) if each[0] == 'K'])\n",
    "for k_idx in range(5):\n",
    "    tmp_result_list = [each for each in net_list if each.startswith('K%s'%k_idx)]\n",
    "\n",
    "    if len(tmp_result_list) == 1:\n",
    "        continue\n",
    "        \n",
    "    tmp_result_list = sorted(tmp_result_list, key=lambda x:float(x.split('.')[0].split('_')[3]))\n",
    "    remove_result_list = tmp_result_list[:-1]\n",
    "    \n",
    "    for remove_result in remove_result_list:\n",
    "        remove_result_path = net_path + remove_result\n",
    "        os.remove(remove_result_path)\n",
    "net_list = sorted([each for each in os.listdir(net_path) if each[0] == 'K'])"
   ]
  },
  {
   "cell_type": "code",
   "execution_count": null,
   "id": "001c6ae2",
   "metadata": {},
   "outputs": [],
   "source": [
    "recall    = tp_list / anno\n",
    "precision = tp_list / np.maximum(tp_list + fp_list, np.finfo(np.float64).eps)\n",
    "\n",
    "fig = plt.figure(figsize=(10,10))\n",
    "plt.plot(recall, precision)\n",
    "# naming the x axis \n",
    "plt.xlabel('Recall') \n",
    "# naming the y axis \n",
    "plt.ylabel('Precision') \n",
    "plt.xlim(0,1)\n",
    "plt.ylim(0,1)\n",
    "\n",
    "# giving a title to my graph \n",
    "plt.title('Precision Recall curve') \n",
    "plt.show()"
   ]
  },
  {
   "cell_type": "code",
   "execution_count": null,
   "id": "99c36d62",
   "metadata": {},
   "outputs": [],
   "source": []
  },
  {
   "cell_type": "code",
   "execution_count": null,
   "id": "76d86c7b",
   "metadata": {},
   "outputs": [],
   "source": []
  }
 ],
 "metadata": {
  "kernelspec": {
   "display_name": "Python 3",
   "language": "python",
   "name": "python3"
  },
  "language_info": {
   "codemirror_mode": {
    "name": "ipython",
    "version": 3
   },
   "file_extension": ".py",
   "mimetype": "text/x-python",
   "name": "python",
   "nbconvert_exporter": "python",
   "pygments_lexer": "ipython3",
   "version": "3.8.10"
  },
  "toc": {
   "base_numbering": 1,
   "nav_menu": {},
   "number_sections": true,
   "sideBar": true,
   "skip_h1_title": false,
   "title_cell": "Table of Contents",
   "title_sidebar": "Contents",
   "toc_cell": false,
   "toc_position": {},
   "toc_section_display": true,
   "toc_window_display": false
  }
 },
 "nbformat": 4,
 "nbformat_minor": 5
}
