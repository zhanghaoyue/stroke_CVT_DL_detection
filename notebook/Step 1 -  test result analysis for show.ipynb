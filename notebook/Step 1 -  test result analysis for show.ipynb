{
 "cells": [
  {
   "cell_type": "code",
   "execution_count": null,
   "id": "663dd584",
   "metadata": {},
   "outputs": [],
   "source": [
    "import json\n",
    "import os\n",
    "import numpy as np\n",
    "from pprint import pprint\n",
    "from copy import deepcopy\n",
    "import matplotlib.pyplot as plt\n",
    "\n",
    "import torch\n",
    "from torch import nn\n",
    "from torch.autograd import Variable\n",
    "import torch.nn.functional as F\n",
    "import torch.utils.data as Data\n",
    "from torchvision.ops import box_iou\n",
    "from torchvision.ops import nms\n",
    "\n",
    "from tqdm import tqdm\n",
    "import cv2\n",
    "from ensemble_boxes import non_maximum_weighted\n",
    "import visualization as gc1"
   ]
  },
  {
   "cell_type": "code",
   "execution_count": null,
   "id": "44d075c2",
   "metadata": {
    "code_folding": [
     2,
     8
    ]
   },
   "outputs": [],
   "source": [
    "font = cv2.FONT_HERSHEY_SIMPLEX\n",
    "\n",
    "def make_show(img):\n",
    "    img = (((img - img.min()) / (img.max() - img.min())) * 255).astype('int16')\n",
    "    img = img[:,:,np.newaxis].repeat(3, 2)\n",
    "    \n",
    "    return img\n",
    "\n",
    "def make_bbox(img, anno, TP=1, score=None):\n",
    "    if TP == 1:\n",
    "        c = (0, 255, 0)\n",
    "    else:\n",
    "        c = (0, 0, 255)\n",
    "    pt1 = (int(anno[0]), int(anno[1]))\n",
    "    pt2 = (int(anno[2]), int(anno[3]))\n",
    "    \n",
    "    img = cv2.rectangle(img, pt1, pt2, c, 1)\n",
    "    if TP != 1:\n",
    "        output_str = '%.4f'%score\n",
    "        cv2.putText(img, output_str, (anno[2], anno[1]), font, 0.7, (255, 0, 0), 2)\n",
    "    \n",
    "    return img"
   ]
  },
  {
   "cell_type": "code",
   "execution_count": null,
   "id": "d688cfbd",
   "metadata": {
    "code_folding": [
     0
    ]
   },
   "outputs": [],
   "source": [
    "def compute_ap(recall, precision):\n",
    "    \"\"\" Compute the average precision, given the recall and precision curves.\n",
    "    Code originally from https://github.com/rbgirshick/py-faster-rcnn.\n",
    "    # Arguments\n",
    "        recall:    The recall curve (list).\n",
    "        precision: The precision curve (list).\n",
    "    # Returns\n",
    "        The average precision as computed in py-faster-rcnn.\n",
    "    \"\"\"\n",
    "    # correct AP calculation\n",
    "    # first append sentinel values at the end\n",
    "    mrec = np.concatenate(([0.], recall, [1.]))\n",
    "    mpre = np.concatenate(([0.], precision, [0.]))\n",
    "\n",
    "    # compute the precision envelope\n",
    "    for i in range(mpre.size - 1, 0, -1):\n",
    "        mpre[i - 1] = np.maximum(mpre[i - 1], mpre[i])\n",
    "\n",
    "    # to calculate area under PR curve, look for points\n",
    "    # where X axis (recall) changes value\n",
    "    i = np.where(mrec[1:] != mrec[:-1])[0]\n",
    "\n",
    "    # and sum (\\Delta recall) * prec\n",
    "    ap = np.sum((mrec[i + 1] - mrec[i]) * mpre[i + 1])\n",
    "    return ap"
   ]
  },
  {
   "cell_type": "code",
   "execution_count": null,
   "id": "58425538",
   "metadata": {},
   "outputs": [],
   "source": [
    "model_path = '../test_output/N4_All/'\n",
    "pprint([each for each in sorted(os.listdir(model_path))])"
   ]
  },
  {
   "cell_type": "code",
   "execution_count": null,
   "id": "3894dbb1",
   "metadata": {},
   "outputs": [],
   "source": [
    "key = 'mrDs_bs16_iou03_size892'"
   ]
  },
  {
   "cell_type": "code",
   "execution_count": null,
   "id": "93705548",
   "metadata": {},
   "outputs": [],
   "source": [
    "result_path = '../test_output/N4_All/' + key + '/'\n",
    "print(result_path)\n",
    "result_list = sorted([each for each in os.listdir(result_path)])"
   ]
  },
  {
   "cell_type": "code",
   "execution_count": null,
   "id": "0cb2d381",
   "metadata": {},
   "outputs": [],
   "source": [
    "view_path = '../view/test_SEG/%s/'%key\n",
    "if os.path.exists(view_path) == False:\n",
    "    os.mkdir(view_path)"
   ]
  },
  {
   "cell_type": "code",
   "execution_count": null,
   "id": "471c5838",
   "metadata": {
    "code_folding": [
     5
    ]
   },
   "outputs": [],
   "source": [
    "NMS_IOU = 0.1\n",
    "\n",
    "result_list = sorted([each for each in os.listdir(result_path) if each[0] == 'K'])\n",
    "K_pid_score = {}\n",
    "\n",
    "for k_idx in range(0,5):\n",
    "    K_pid_score[str(k_idx)] = {}\n",
    "    \n",
    "    tmp_result_npz = [each for each in result_list if each.startswith('K%s'%k_idx)][0]\n",
    "    print(tmp_result_npz)\n",
    "    tmp_result_path = result_path + tmp_result_npz\n",
    "    tmp_result_file = np.load(tmp_result_path, allow_pickle=True)\n",
    "    case_list = tmp_result_file['case']\n",
    "\n",
    "    all_detections = tmp_result_file['det']\n",
    "    all_annotations = tmp_result_file['anno']\n",
    "    \n",
    "    false_positives = np.zeros((0,))\n",
    "    true_positives = np.zeros((0,))\n",
    "    scores = np.zeros((0,))\n",
    "    num_annotations = 0.0\n",
    "    \n",
    "    for i in range(len(case_list)):\n",
    "        case = case_list[i]\n",
    "        pid = '_'.join(case.split('_')[:-1])\n",
    "        \n",
    "        if pid not in K_pid_score[str(k_idx)]:\n",
    "            K_pid_score[str(k_idx)][pid] = [0]\n",
    "        \n",
    "        detections = all_detections[i]\n",
    "        annotations = all_annotations[i]\n",
    "        num_annotations += annotations.shape[0]\n",
    "        detected_annotations = []\n",
    "        \n",
    "        bb_scores = torch.tensor(detections[:,4])\n",
    "        anchorBoxes = torch.tensor(detections[:,:4])\n",
    "        anchors_nms_idx = nms(anchorBoxes, bb_scores, 0.1)\n",
    "        anchors_nms_idx = anchors_nms_idx.numpy()\n",
    "        detections = detections[anchors_nms_idx]\n",
    "        \n",
    "        for d in detections:\n",
    "            det_score = d[4]\n",
    "            K_pid_score[str(k_idx)][pid] += [det_score]\n",
    "    \n",
    "    for pid, score_list in K_pid_score[str(k_idx)].items():\n",
    "        K_pid_score[str(k_idx)][pid] = np.mean(sorted(score_list)[-3:])"
   ]
  },
  {
   "cell_type": "code",
   "execution_count": null,
   "id": "04b36d70",
   "metadata": {
    "code_folding": []
   },
   "outputs": [],
   "source": [
    "result_list = sorted([each for each in os.listdir(result_path) if each[0] == 'K'])\n",
    "\n",
    "s_th = 0.05\n",
    "NMS_IOU = 0.1\n",
    "cls_th = 0\n",
    "\n",
    "tmp_result_npz = [each for each in result_list if each.startswith('K0')][0]\n",
    "tmp_result_path = result_path + tmp_result_npz\n",
    "tmp_result_file = np.load(tmp_result_path, allow_pickle=True)\n",
    "case_list = tmp_result_file['case']\n",
    "all_annotations = tmp_result_file['anno']\n",
    "\n",
    "for i in tqdm(range(len(case_list))):\n",
    "    case_slice = case_list[i]\n",
    "    seg_anno_name = '_'.join(case_slice.split('_')[:-1])\n",
    "    case_slice_path = '../data/N4_All_img/%s.npz'%case_slice\n",
    "    case_slice_array = np.load(case_slice_path)\n",
    "    \n",
    "    image_list = [case_slice_array['FL']]\n",
    "    # draw image\n",
    "    for idx, image in enumerate(image_list):\n",
    "        image_list[idx] = make_show(image)\n",
    "        \n",
    "    annotations = all_annotations[i]\n",
    "\n",
    "    # draw annos\n",
    "    if len(annotations) != 0:\n",
    "        for idx, anno in enumerate(annotations):\n",
    "            for idx, image in enumerate(image_list):\n",
    "                image_list[idx] = make_bbox(image, anno)\n",
    "                \n",
    "    draw_list = []\n",
    "    \n",
    "    for k_idx in range(5):\n",
    "        tmp_image_list = deepcopy(image_list)\n",
    "        tmp_result_npz = [each for each in result_list if each.startswith('K%s'%k_idx)][0]\n",
    "        tmp_result_path = result_path + tmp_result_npz\n",
    "        tmp_result_file = np.load(tmp_result_path, allow_pickle=True)\n",
    "        all_detections = tmp_result_file['det']\n",
    "        \n",
    "        detections = all_detections[i]\n",
    "        if len(detections) == 0:\n",
    "            draw_list.append(tmp_image_list)\n",
    "            continue\n",
    "        \n",
    "        boxes_list = [detections[:,:4] / 448]\n",
    "        scores_list = [detections[:,-1]]\n",
    "        labels_list = np.ones_like(scores_list)\n",
    "\n",
    "        iou_thr = NMS_IOU\n",
    "        skip_box_thr = 0.0001\n",
    "\n",
    "        boxes, nms_scores, labels = non_maximum_weighted(boxes_list, \n",
    "                                            scores_list, \n",
    "                                            labels_list, \n",
    "                                            iou_thr=iou_thr,\n",
    "                                            skip_box_thr=skip_box_thr)\n",
    "\n",
    "        boxes = boxes * 448\n",
    "        nms_scores = nms_scores[:,np.newaxis]\n",
    "        detections = np.concatenate([boxes, nms_scores], axis=1)\n",
    "\n",
    "        for d in detections:\n",
    "            tmp_score = d[4] * K_pid_score[str(k_idx)][seg_anno_name]\n",
    "            if tmp_score < s_th:\n",
    "                continue\n",
    "\n",
    "            for idx, image in enumerate(tmp_image_list):\n",
    "                anno = d[:4].astype('int16')\n",
    "                tmp_image_list[idx] = make_bbox(image, anno, TP=0, score=tmp_score)\n",
    "                \n",
    "        draw_list.append(tmp_image_list)\n",
    "    for_show = [np.concatenate(each, axis=1) for each in draw_list]\n",
    "    for_show_final = np.concatenate(for_show, axis=1)\n",
    "    cv2.imwrite(view_path + '%s.png'%(case_slice), for_show_final)\n",
    "#     break"
   ]
  },
  {
   "cell_type": "code",
   "execution_count": null,
   "id": "76d86c7b",
   "metadata": {},
   "outputs": [],
   "source": []
  }
 ],
 "metadata": {
  "kernelspec": {
   "display_name": "Python 3",
   "language": "python",
   "name": "python3"
  },
  "language_info": {
   "codemirror_mode": {
    "name": "ipython",
    "version": 3
   },
   "file_extension": ".py",
   "mimetype": "text/x-python",
   "name": "python",
   "nbconvert_exporter": "python",
   "pygments_lexer": "ipython3",
   "version": "3.9.5"
  },
  "toc": {
   "base_numbering": 1,
   "nav_menu": {},
   "number_sections": true,
   "sideBar": true,
   "skip_h1_title": false,
   "title_cell": "Table of Contents",
   "title_sidebar": "Contents",
   "toc_cell": false,
   "toc_position": {},
   "toc_section_display": true,
   "toc_window_display": false
  }
 },
 "nbformat": 4,
 "nbformat_minor": 5
}
