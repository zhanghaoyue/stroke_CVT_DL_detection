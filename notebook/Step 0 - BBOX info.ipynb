{
 "cells": [
  {
   "cell_type": "code",
   "execution_count": 19,
   "id": "e5689315",
   "metadata": {},
   "outputs": [],
   "source": [
    "import os\n",
    "import pandas as pd\n",
    "import json\n",
    "import shutil\n",
    "import SimpleITK as sitk\n",
    "import cv2\n",
    "import numpy as np\n",
    "from tqdm import tqdm\n",
    "from sklearn.model_selection import KFold\n",
    "import matplotlib.pyplot as plt"
   ]
  },
  {
   "cell_type": "code",
   "execution_count": 6,
   "id": "8b052b6b",
   "metadata": {},
   "outputs": [],
   "source": [
    "path = '../data/N4_All_img/'\n",
    "data_list = os.listdir(path)\n",
    "pid_list = sorted(os.listdir(path))"
   ]
  },
  {
   "cell_type": "code",
   "execution_count": 16,
   "id": "6bf94b8a",
   "metadata": {},
   "outputs": [
    {
     "name": "stderr",
     "output_type": "stream",
     "text": [
      "100%|██████████| 7899/7899 [00:08<00:00, 933.28it/s] \n"
     ]
    }
   ],
   "source": [
    "h_list = []\n",
    "w_list = []\n",
    "r_list = []\n",
    "\n",
    "for pid in tqdm(pid_list):\n",
    "    pid_data_path = path + pid\n",
    "    pid_data = np.load(pid_data_path)['BBOX']\n",
    "    \n",
    "    anno_max = np.max(pid_data)\n",
    "    \n",
    "    if anno_max == 0:\n",
    "        continue\n",
    "        \n",
    "    anno_contour_list = cv2.findContours(\n",
    "        pid_data, cv2.RETR_TREE, cv2.CHAIN_APPROX_SIMPLE)[0]\n",
    "    if len(anno_contour_list) != 0 :\n",
    "        for anno_contour in anno_contour_list:\n",
    "            x_min = np.min(anno_contour[:,:,0])\n",
    "            x_max = np.max(anno_contour[:,:,0])\n",
    "\n",
    "            y_min = np.min(anno_contour[:,:,1])\n",
    "            y_max = np.max(anno_contour[:,:,1])\n",
    "\n",
    "            if (x_max - x_min) <= 3 or (y_max - y_min) <= 3:\n",
    "                continue\n",
    "\n",
    "            h = y_max - y_min\n",
    "            w = x_max - x_min\n",
    "\n",
    "            h_list.append(h)\n",
    "            w_list.append(w)\n",
    "            r_list.append(h/w)"
   ]
  },
  {
   "cell_type": "code",
   "execution_count": 17,
   "id": "9e71da03",
   "metadata": {},
   "outputs": [
    {
     "name": "stdout",
     "output_type": "stream",
     "text": [
      "124\n",
      "8\n"
     ]
    }
   ],
   "source": [
    "print(np.max(h_list))\n",
    "print(np.min(h_list))"
   ]
  },
  {
   "cell_type": "code",
   "execution_count": 20,
   "id": "ea474002",
   "metadata": {},
   "outputs": [
    {
     "data": {
      "text/plain": [
       "(array([ 134., 1222., 1332.,  519.,  161.,   74.,   53.,   39.,   43.,\n",
       "          36.,   34.,   26.,   11.,    5.,    2.]),\n",
       " array([  8.,  16.,  24.,  32.,  40.,  48.,  56.,  64.,  72.,  80.,  88.,\n",
       "         96., 104., 112., 120., 128.]),\n",
       " <BarContainer object of 15 artists>)"
      ]
     },
     "execution_count": 20,
     "metadata": {},
     "output_type": "execute_result"
    },
    {
     "data": {
      "image/png": "[encoded data removed]",
      "text/plain": [
       "<Figure size 432x288 with 1 Axes>"
      ]
     },
     "metadata": {
      "needs_background": "light"
     },
     "output_type": "display_data"
    }
   ],
   "source": [
    "plt.hist(h_list, range=(8,128), bins=15)"
   ]
  },
  {
   "cell_type": "code",
   "execution_count": 3,
   "id": "5945e593",
   "metadata": {},
   "outputs": [],
   "source": [
    "with open('../config/N4_All_dict.json', 'r') as f:\n",
    "    slice_info_dict = json.load(f)"
   ]
  },
  {
   "cell_type": "code",
   "execution_count": 4,
   "id": "4937960e",
   "metadata": {},
   "outputs": [
    {
     "data": {
      "text/plain": [
       "dict_keys(['Train', 'Test', 'path_img'])"
      ]
     },
     "execution_count": 4,
     "metadata": {},
     "output_type": "execute_result"
    }
   ],
   "source": [
    "slice_info_dict.keys()"
   ]
  },
  {
   "cell_type": "code",
   "execution_count": 5,
   "id": "a30be89a",
   "metadata": {},
   "outputs": [
    {
     "name": "stdout",
     "output_type": "stream",
     "text": [
      "4699 2264\n",
      "1193 557 0.46689019279128247\n",
      "4707 2221\n",
      "1185 600 0.5063291139240507\n",
      "4700 2207\n",
      "1192 614 0.5151006711409396\n",
      "4717 2274\n",
      "1175 547 0.465531914893617\n",
      "4745 2318\n",
      "1147 503 0.4385353095030514\n"
     ]
    }
   ],
   "source": [
    "train_bbox = [0,0,0,0,0]\n",
    "val_bbox = [0,0,0,0,0]\n",
    "test_bbox = 0\n",
    "\n",
    "for k in slice_info_dict['Train']:\n",
    "    k_train_list = slice_info_dict['Train'][k]['train']\n",
    "    for k_train_case in k_train_list:\n",
    "        k_train_case_path = path + k_train_case + '.npz'\n",
    "        k_train_case_bbox = np.load(k_train_case_path)['BBOX']\n",
    "        if k_train_case_bbox.max() != 0:\n",
    "            train_bbox[int(k)] += 1\n",
    "            \n",
    "    print(len(k_train_list), train_bbox[int(k)])\n",
    "\n",
    "    k_val_list = slice_info_dict['Train'][k]['val']\n",
    "    for k_val_case in k_val_list:\n",
    "        k_val_case_path = path + k_val_case + '.npz'\n",
    "        k_val_case_bbox = np.load(k_val_case_path)['BBOX']\n",
    "        if k_val_case_bbox.max() != 0:\n",
    "            val_bbox[int(k)] += 1\n",
    "    \n",
    "    print(len(k_val_list), val_bbox[int(k)], val_bbox[int(k)]/len(k_val_list))"
   ]
  },
  {
   "cell_type": "code",
   "execution_count": 19,
   "id": "cd7feba7",
   "metadata": {},
   "outputs": [
    {
     "name": "stdout",
     "output_type": "stream",
     "text": [
      "2007 592 0.2949676133532636\n"
     ]
    }
   ],
   "source": [
    "k_test_list = slice_info_dict['Test']\n",
    "for k_test_case in k_test_list:\n",
    "    k_test_case_path = path + k_test_case + '.npz'\n",
    "    k_test_case_bbox = np.load(k_test_case_path)['BBOX']\n",
    "    if k_test_case_bbox.max() != 0:\n",
    "        test_bbox += 1\n",
    "        \n",
    "print(len(k_test_list), test_bbox, test_bbox/len(k_test_list))"
   ]
  },
  {
   "cell_type": "code",
   "execution_count": null,
   "id": "da0a8d8b",
   "metadata": {},
   "outputs": [],
   "source": []
  }
 ],
 "metadata": {
  "kernelspec": {
   "display_name": "Python 3",
   "language": "python",
   "name": "python3"
  },
  "language_info": {
   "codemirror_mode": {
    "name": "ipython",
    "version": 3
   },
   "file_extension": ".py",
   "mimetype": "text/x-python",
   "name": "python",
   "nbconvert_exporter": "python",
   "pygments_lexer": "ipython3",
   "version": "3.8.10"
  },
  "toc": {
   "base_numbering": 1,
   "nav_menu": {},
   "number_sections": true,
   "sideBar": true,
   "skip_h1_title": false,
   "title_cell": "Table of Contents",
   "title_sidebar": "Contents",
   "toc_cell": false,
   "toc_position": {},
   "toc_section_display": true,
   "toc_window_display": false
  }
 },
 "nbformat": 4,
 "nbformat_minor": 5
}
